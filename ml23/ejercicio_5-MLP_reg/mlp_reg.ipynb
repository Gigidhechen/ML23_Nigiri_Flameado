{
 "cells": [
  {
   "attachments": {},
   "cell_type": "markdown",
   "metadata": {},
   "source": [
    "# Introduccion a pytorch\n",
    "En este ejercicio haremos uso de la librería de pytorch para aprendizaje profundo. Para iniciar, ve a la [página de Pytorch](https://pytorch.org/get-started/locally/) e instala la versión que corresponda a tu sistema operativo. Recuerda activar tu ambiente antes de instarlo. La instalación tomará unos minutos.\n",
    "\n",
    "```\n",
    "conda activate sistemas_inteligentes\n",
    "pip3 install torch torchvision torchaudio\n",
    "```"
   ]
  },
  {
   "cell_type": "code",
   "execution_count": 1,
   "metadata": {},
   "outputs": [],
   "source": [
    "import numpy as np\n",
    "import matplotlib.pyplot as plt\n",
    "import pandas as pd\n",
    "import torch\n",
    "import torch.nn  as nn\n",
    "import torch.nn.functional as F\n",
    "from torch.utils.data import Dataset\n",
    "from torch.utils.data import DataLoader\n",
    "from torchvision import datasets\n",
    "from torchvision.transforms import ToTensor\n",
    "import os\n",
    "import json"
   ]
  },
  {
   "attachments": {},
   "cell_type": "markdown",
   "metadata": {},
   "source": [
    "## Datos originales\n",
    "Aquí cargamos los datos originales y observamos los valores de las primeras 3 columnas. En este ejercio utilizaremos el conjunto de datos del problema de las casas que utilizamos para entrenar regresión lineal."
   ]
  },
  {
   "cell_type": "code",
   "execution_count": 2,
   "metadata": {},
   "outputs": [
    {
     "name": "stdout",
     "output_type": "stream",
     "text": [
      "   Id  MSSubClass MSZoning  LotFrontage  LotArea Street Alley LotShape  \\\n",
      "0   1          60       RL         65.0     8450   Pave   NaN      Reg   \n",
      "1   2          20       RL         80.0     9600   Pave   NaN      Reg   \n",
      "2   3          60       RL         68.0    11250   Pave   NaN      IR1   \n",
      "\n",
      "  LandContour Utilities  ... ScreenPorch PoolArea PoolQC Fence MiscFeature  \\\n",
      "0         Lvl    AllPub  ...           0        0    NaN   NaN         NaN   \n",
      "1         Lvl    AllPub  ...           0        0    NaN   NaN         NaN   \n",
      "2         Lvl    AllPub  ...           0        0    NaN   NaN         NaN   \n",
      "\n",
      "  MiscVal MoSold  YrSold  SaleType  SaleCondition  \n",
      "0       0      2    2008        WD         Normal  \n",
      "1       0      5    2007        WD         Normal  \n",
      "2       0      9    2008        WD         Normal  \n",
      "\n",
      "[3 rows x 80 columns]\n",
      "Conjunto de datos de dimensinalidad:(1460, 80), etiquetas (1460,)\n"
     ]
    }
   ],
   "source": [
    "def read_data(data_dir, file):\n",
    "    path = os.path.join(data_dir, file)\n",
    "    df = pd.read_csv(path)\n",
    "    return df\n",
    "\n",
    "# Leer los datasets\n",
    "data_dir = \"./data\"\n",
    "data = read_data(data_dir, \"train.csv\")\n",
    "full_dataset, labels = data.iloc[:, :-1], data.iloc[:, -1]\n",
    "print(full_dataset.head(3))\n",
    "print(f\"Conjunto de datos de dimensinalidad:{full_dataset.shape}, etiquetas {labels.shape}\")"
   ]
  },
  {
   "attachments": {},
   "cell_type": "markdown",
   "metadata": {},
   "source": [
    "## Data split\n",
    "Para poder simular un conjunto de prueba y evaluar nuestro modelo, separamos los datos en entrenamiento y validación."
   ]
  },
  {
   "cell_type": "code",
   "execution_count": 3,
   "metadata": {},
   "outputs": [
    {
     "name": "stdout",
     "output_type": "stream",
     "text": [
      "Entrenamiento de dimensinalidad:(1168, 80), etiquetas (1168,)\n",
      "Validación de dimensinalidad:(292, 80), etiquetas (292,)\n"
     ]
    }
   ],
   "source": [
    "from sklearn.model_selection import train_test_split\n",
    "train_data, val_data, train_labels, val_labels = train_test_split(full_dataset,\n",
    "                                                                  labels,\n",
    "                                                                  test_size = 0.2,\n",
    "                                                                  random_state = 0)\n",
    "print(f\"Entrenamiento de dimensinalidad:{train_data.shape}, etiquetas {train_labels.shape}\")\n",
    "print(f\"Validación de dimensinalidad:{val_data.shape}, etiquetas {val_labels.shape}\")"
   ]
  },
  {
   "attachments": {},
   "cell_type": "markdown",
   "metadata": {},
   "source": [
    "## Preprocesamiento de datos\n",
    "\n",
    "Abre el archivo .csv dentro de la carpeta de data y observa como están dados los datos. Notarás que algunas columnas tienen valores string en lugar de números, algunas filas tienen valores NaN, algunos valores están vacios y demás.\n",
    "\n",
    "La mayoría de los datasets reales son como el que usamos en este ejercicio, sin embargo para poder aprender de ellos necesitamos deshacernos de las tres condiciones anterirmente mencionadas. Por lo tanto, antes de poder aplicar cualquier método de aprendizaje primero deberémos:\n",
    "1. Eliminar cualquier celda con valores NaN\n",
    "2. Remplazar las entradas categóricas (string) por numéricas\n",
    "\n",
    "Para tratar con los NaN, vamos a asignarle un número distintivo. En este caso hemos elegido el número \"-1\". Entonces, para toda celda cuyo valor sea desconocido, simplemente le asignaremos el valor de \"-1\".\n",
    "\n",
    "Para tratar con el segundo caso, crearemos un \"mapa\" de strings a enteros. Por ejemplo si para cada casa se indica el material de construcción como \"block\" y \"ladrillo\" crearemos un mapa que nos de un número entero para cada tipo de material. Por ejemplo considera el mapeo:\n",
    "```\n",
    "material = {\"block\": 1,\n",
    "            \"ladrillo\": 2}\n",
    "```\n",
    "En este caso si en alguna fila la columna de \"material\" originalmente fuera \"block\" entonces en los datos después del pre procesamiento, ahora diría \"1\". Para ello utilizaremos la utilería de sklearn [`OrdinalEncoder`](https://scikit-learn.org/stable/modules/generated/sklearn.preprocessing.OrdinalEncoder.html). Recuerda que es importante aplicar el mismo preprocesamiento a TODOS los datos (incluyendo los de prueba), y que los datos que utilizamos para afinar este preprocesamiento son los de entrenamiento."
   ]
  },
  {
   "cell_type": "code",
   "execution_count": 4,
   "metadata": {},
   "outputs": [],
   "source": [
    "def apply_preprocessing(dataset, feat_encoder, columns):\n",
    "    '''\n",
    "        args:\n",
    "        - dataset (pd.DataFrame): Conjunto de datos\n",
    "        - feat_encoder (OrdinalEncoder): instancia de codificador para las variables de entrada ajustado con datos de entrenamiento\n",
    "        returns:\n",
    "        - transformed_dataset (np.array): dataset transformado\n",
    "    '''\n",
    "    # Reemplazar valores categóricos por numéricos\n",
    "    transformed_dataset = dataset.copy()\n",
    "    transformed_dataset[columns] = feat_encoder.transform(dataset[columns])\n",
    "    # Reemplazar NaN con -1\n",
    "    transformed_dataset[np.isnan(transformed_dataset)] = -1\n",
    "    return transformed_dataset.to_numpy()"
   ]
  },
  {
   "cell_type": "code",
   "execution_count": 5,
   "metadata": {},
   "outputs": [
    {
     "name": "stdout",
     "output_type": "stream",
     "text": [
      "Entrenamiento shapes (1168, 80) (1168,) <class 'numpy.ndarray'>\n",
      "Validacion shapes (292, 80) (292,)\n"
     ]
    }
   ],
   "source": [
    "from sklearn.preprocessing import OrdinalEncoder\n",
    "\n",
    "# Definimos un codificador para los atributos de entrada\n",
    "# Especificamos que para valores desconocidos tome -1\n",
    "# solo usamos entrenamiento apra definir el codificador\n",
    "obj_cols = (train_data.dtypes == 'object')\n",
    "obj_cols = list(obj_cols[obj_cols].index)\n",
    "feat_encoder= OrdinalEncoder(handle_unknown='use_encoded_value',\n",
    "                             unknown_value=-1)\n",
    "feat_encoder.fit(train_data[obj_cols])\n",
    "\n",
    "# Aplicamos el mismo preprocesamiento a todos los datasets\n",
    "train_data = apply_preprocessing(train_data, feat_encoder, obj_cols)\n",
    "val_data = apply_preprocessing(val_data, feat_encoder, obj_cols)\n",
    "\n",
    "# Transformar las etiquetas a arreglos de numpy\n",
    "if not isinstance(train_labels, np.ndarray):\n",
    "    train_labels = train_labels.to_numpy()\n",
    "    val_labels = val_labels.to_numpy()\n",
    "print(\"Entrenamiento shapes\", train_data.shape, train_labels.shape, type(train_data))\n",
    "print(\"Validacion shapes\", val_data.shape, val_labels.shape)"
   ]
  },
  {
   "attachments": {},
   "cell_type": "markdown",
   "metadata": {},
   "source": [
    "Y aplicamos el mismo pre procesamiento a los datos de prueba"
   ]
  },
  {
   "cell_type": "code",
   "execution_count": 6,
   "metadata": {},
   "outputs": [
    {
     "name": "stdout",
     "output_type": "stream",
     "text": [
      "Prueba shapes (1459, 80)\n"
     ]
    }
   ],
   "source": [
    "# Cargamos los datos de prueba y aplicamos el mismo proceso\n",
    "# Solo que en este caso no hay etiquetas\n",
    "test_data = read_data(data_dir, \"test.csv\")\n",
    "# TODO: aplica el preprocesamiento de datos al conjunto de prueba\n",
    "test_data=apply_preprocessing(test_data,feat_encoder,obj_cols)\n",
    "print(\"Prueba shapes\", test_data.shape)"
   ]
  },
  {
   "attachments": {},
   "cell_type": "markdown",
   "metadata": {},
   "source": [
    "# Datos preprocesados\n",
    "¿Recuerdas los datos originales? Después del pre procesamiento, esta es la información que recibiría el modelo durante entrenamiento"
   ]
  },
  {
   "cell_type": "code",
   "execution_count": 7,
   "metadata": {},
   "outputs": [
    {
     "name": "stdout",
     "output_type": "stream",
     "text": [
      "Datos después de limpiarlos\n",
      "[[ 6.1900e+02  2.0000e+01  3.0000e+00  9.0000e+01  1.1694e+04  1.0000e+00\n",
      "  -1.0000e+00  3.0000e+00  3.0000e+00  0.0000e+00  4.0000e+00  0.0000e+00\n",
      "   1.6000e+01  2.0000e+00  2.0000e+00  0.0000e+00  2.0000e+00  9.0000e+00\n",
      "   5.0000e+00  2.0070e+03  2.0070e+03  3.0000e+00  0.0000e+00  5.0000e+00\n",
      "   5.0000e+00  1.0000e+00  4.5200e+02  0.0000e+00  4.0000e+00  2.0000e+00\n",
      "   0.0000e+00  3.0000e+00  0.0000e+00  2.0000e+00  4.8000e+01  5.0000e+00\n",
      "   0.0000e+00  1.7740e+03  1.8220e+03  1.0000e+00  0.0000e+00  1.0000e+00\n",
      "   4.0000e+00  1.8280e+03  0.0000e+00  0.0000e+00  1.8280e+03  0.0000e+00\n",
      "   0.0000e+00  2.0000e+00  0.0000e+00  3.0000e+00  1.0000e+00  2.0000e+00\n",
      "   9.0000e+00  5.0000e+00  1.0000e+00  2.0000e+00  1.0000e+00  2.0070e+03\n",
      "   2.0000e+00  3.0000e+00  7.7400e+02  4.0000e+00  4.0000e+00  2.0000e+00\n",
      "   0.0000e+00  1.0800e+02  0.0000e+00  0.0000e+00  2.6000e+02  0.0000e+00\n",
      "  -1.0000e+00 -1.0000e+00 -1.0000e+00  0.0000e+00  7.0000e+00  2.0070e+03\n",
      "   6.0000e+00  5.0000e+00]\n",
      " [ 8.7100e+02  2.0000e+01  3.0000e+00  6.0000e+01  6.6000e+03  1.0000e+00\n",
      "  -1.0000e+00  3.0000e+00  3.0000e+00  0.0000e+00  4.0000e+00  0.0000e+00\n",
      "   1.2000e+01  4.0000e+00  2.0000e+00  0.0000e+00  2.0000e+00  5.0000e+00\n",
      "   5.0000e+00  1.9620e+03  1.9620e+03  3.0000e+00  0.0000e+00  8.0000e+00\n",
      "   8.0000e+00 -1.0000e+00  0.0000e+00  3.0000e+00  4.0000e+00  1.0000e+00\n",
      "   3.0000e+00  3.0000e+00  3.0000e+00  5.0000e+00  0.0000e+00  5.0000e+00\n",
      "   0.0000e+00  8.9400e+02  8.9400e+02  1.0000e+00  2.0000e+00  0.0000e+00\n",
      "   4.0000e+00  8.9400e+02  0.0000e+00  0.0000e+00  8.9400e+02  0.0000e+00\n",
      "   0.0000e+00  1.0000e+00  0.0000e+00  2.0000e+00  1.0000e+00  3.0000e+00\n",
      "   5.0000e+00  5.0000e+00  0.0000e+00 -1.0000e+00  5.0000e+00  1.9620e+03\n",
      "   2.0000e+00  1.0000e+00  3.0800e+02  4.0000e+00  4.0000e+00  2.0000e+00\n",
      "   0.0000e+00  0.0000e+00  0.0000e+00  0.0000e+00  0.0000e+00  0.0000e+00\n",
      "  -1.0000e+00 -1.0000e+00 -1.0000e+00  0.0000e+00  8.0000e+00  2.0090e+03\n",
      "   8.0000e+00  4.0000e+00]\n",
      " [ 9.3000e+01  3.0000e+01  3.0000e+00  8.0000e+01  1.3360e+04  1.0000e+00\n",
      "   0.0000e+00  0.0000e+00  1.0000e+00  0.0000e+00  4.0000e+00  0.0000e+00\n",
      "   6.0000e+00  2.0000e+00  2.0000e+00  0.0000e+00  2.0000e+00  5.0000e+00\n",
      "   7.0000e+00  1.9210e+03  2.0060e+03  1.0000e+00  0.0000e+00  1.3000e+01\n",
      "   1.4000e+01 -1.0000e+00  0.0000e+00  3.0000e+00  2.0000e+00  0.0000e+00\n",
      "   2.0000e+00  3.0000e+00  3.0000e+00  0.0000e+00  7.1300e+02  5.0000e+00\n",
      "   0.0000e+00  1.6300e+02  8.7600e+02  1.0000e+00  0.0000e+00  1.0000e+00\n",
      "   4.0000e+00  9.6400e+02  0.0000e+00  0.0000e+00  9.6400e+02  1.0000e+00\n",
      "   0.0000e+00  1.0000e+00  0.0000e+00  2.0000e+00  1.0000e+00  3.0000e+00\n",
      "   5.0000e+00  5.0000e+00  0.0000e+00 -1.0000e+00  5.0000e+00  1.9210e+03\n",
      "   2.0000e+00  2.0000e+00  4.3200e+02  4.0000e+00  4.0000e+00  2.0000e+00\n",
      "   0.0000e+00  0.0000e+00  4.4000e+01  0.0000e+00  0.0000e+00  0.0000e+00\n",
      "  -1.0000e+00 -1.0000e+00 -1.0000e+00  0.0000e+00  8.0000e+00  2.0090e+03\n",
      "   8.0000e+00  4.0000e+00]]\n"
     ]
    }
   ],
   "source": [
    "print(\"Datos después de limpiarlos\")\n",
    "print(train_data[:3])"
   ]
  },
  {
   "attachments": {},
   "cell_type": "markdown",
   "metadata": {},
   "source": [
    "# Definir un dataloader\n",
    "\n",
    "Después de haber limpiado los datos, definiremos un dataloader para poder iterarlos. Esta es una clase proprietaria de pytorch donde podemos aplicar distintas técnicas de regularización y preprocesamiento al dataset según se requiera. También nos permitirá definir cómo queremos recibir los datos durante el entrenamiento. Puedes leer mas sobre los dataloaders en el siguiente enlace: [dataloaders en pytorch](https://pytorch.org/tutorials/beginner/basics/data_tutorial.html)"
   ]
  },
  {
   "cell_type": "code",
   "execution_count": 8,
   "metadata": {},
   "outputs": [
    {
     "name": "stdout",
     "output_type": "stream",
     "text": [
      "1168 292\n"
     ]
    }
   ],
   "source": [
    "class HousingDataset(Dataset):\n",
    "    def __init__(self, data, labels):\n",
    "        self.data = data.astype('float32')\n",
    "        self.labels = labels.astype('float32')\n",
    "\n",
    "        # TODO: calcula la cantidad de variables de entrada y salida\n",
    "        self.input_dims = data.shape[-1]\n",
    "        self.output_dims =  1\n",
    "\n",
    "    def __len__(self):\n",
    "        return len(self.data)\n",
    "\n",
    "    def __getitem__(self, idx):\n",
    "        # print(self.data.shape, type(self.data), idx)\n",
    "        # print(self.labels.shape, type(self.labels), idx)\n",
    "        datapoint = self.data[idx]\n",
    "        label = self.labels[idx]\n",
    "        label = np.expand_dims(label,0) # Transformarlo a vector de 1x1\n",
    "        return datapoint, label\n",
    "\n",
    "# DATASETS\n",
    "train_dataset = HousingDataset(train_data, train_labels)\n",
    "val_dataset = HousingDataset(val_data, val_labels)\n",
    "total_train_data, total_val_data = len(train_dataset), len(val_dataset)\n",
    "\n",
    "print(total_train_data, total_val_data)"
   ]
  },
  {
   "attachments": {},
   "cell_type": "markdown",
   "metadata": {},
   "source": [
    "Para poder aplicar descenso de gradiente estocástico necesitamos poder seleccionar distintos indices de nuestro conjunto de datos. Esto está automatizado por pytorch y nosotros podemos indicarle de qué tamaño será el batch size y si queremos que seleccione los indices aleatoriamente o no.\n",
    "\n",
    "En la celda anterior nosotros definimos nuestro conjunto de datos de las casas (HousingDataset) donde dado un indice i, regresamos un tuple (dato[i], label[i]).\n",
    "\n",
    "En la siguiente celda definimos nuestros dataloaders donde especificamos el batch size a utilizar y probamos como funciona. Intenta cambiar el batch size y observa cuantas iteraciones hace el dataloader."
   ]
  },
  {
   "cell_type": "code",
   "execution_count": 9,
   "metadata": {},
   "outputs": [
    {
     "name": "stdout",
     "output_type": "stream",
     "text": [
      "En ENTRENAMIENTO hay 1168 datos. Hicimos 9 iteraciones con un batch_size de 128\n",
      "En VALIDACIÓN hay 292 datos. Hicimos 2 iteraciones con un batch_size de 128\n"
     ]
    }
   ],
   "source": [
    "# TODO: Cambia el batch size y responde la pregunta de la celda siguiente\n",
    "batch_size = 128\n",
    "\n",
    "# DATALOADERS\n",
    "train_loader = DataLoader(train_dataset,\n",
    "                          batch_size=batch_size,\n",
    "                          shuffle=True)\n",
    "val_loader = DataLoader(val_dataset,\n",
    "                        batch_size=batch_size,\n",
    "                        shuffle=False)\n",
    "\n",
    "# Iteraciones\n",
    "for i, data in enumerate(train_loader, 0):\n",
    "    # get the inputs; data is a list of [inputs, labels]\n",
    "    inputs, labels = data\n",
    "print(f\"En ENTRENAMIENTO hay {len(train_dataset)} datos. Hicimos {i} iteraciones con un batch_size de {batch_size}\")\n",
    "\n",
    "for i, data in enumerate(val_loader, 0):\n",
    "    # get the inputs; data is a list of [inputs, labels]\n",
    "    inputs, labels = data\n",
    "print(f\"En VALIDACIÓN hay {len(val_dataset)} datos. Hicimos {i} iteraciones con un batch_size de {batch_size}\")\n",
    "    "
   ]
  },
  {
   "attachments": {},
   "cell_type": "markdown",
   "metadata": {},
   "source": [
    "## TODO: Responde\n",
    "¿Como se relaciona la cantidad de iteraciones, la cantidad de datos en el dataset y el batch_size? \n",
    "Si tenemos un batch size mas grande, necesitamos muestrar menos veces el dataset para completar un epoch."
   ]
  },
  {
   "attachments": {},
   "cell_type": "markdown",
   "metadata": {},
   "source": [
    "# Definir la red neuronal\n",
    "Ahora vamos a definir la red neuronal (: Aquí mostraremos dos formas de hacerlo. La primera consiste en utilizar la clase sequential y la segunda es hacerlo \"manualmente\". La ventaja de la última, es que tienes más control sobre como defines tu red. \n",
    "Investiga como declarar una red neuronal en pytorch usando la clase [sequential]([https://pytorch.org/docs/stable/generated/torch.nn.Sequential.html).\n",
    "\n",
    "Otras clases importantes son las funciones de activación: [non-linear Activations](https://pytorch.org/docs/stable/nn.html#non-linear-activations-weighted-sum-nonlinearity)\n",
    "y las capas completamente conectadas: [linear layers](https://pytorch.org/docs/stable/generated/torch.nn.Linear.html)"
   ]
  },
  {
   "cell_type": "code",
   "execution_count": 10,
   "metadata": {},
   "outputs": [
    {
     "name": "stdout",
     "output_type": "stream",
     "text": [
      "Definiendo red con 80 variables de entradas y 1 variables de salida\n"
     ]
    }
   ],
   "source": [
    "# Tenemos \n",
    "input_dims = train_dataset.input_dims\n",
    "output_dims = 1\n",
    "print(f\"Definiendo red con {input_dims} variables de entradas y {output_dims} variables de salida\")"
   ]
  },
  {
   "attachments": {},
   "cell_type": "markdown",
   "metadata": {},
   "source": [
    "### Opción A)\n",
    "Declarando la red con nn.Sequential"
   ]
  },
  {
   "cell_type": "code",
   "execution_count": 11,
   "metadata": {},
   "outputs": [],
   "source": [
    "# TODO: Agrega más capas a la siguiente red.\n",
    "# Puedes utilizar funciones de activación ReLU para las capas escondidas\n",
    "# Definiendo la red con sequential\n",
    "net1 = nn.Sequential(\n",
    "        nn.Linear(80, 2048),   # capa lineal entran ..., salen ... features\n",
    "        nn.ReLU(),             # activación ReLu a la lineal anterior\n",
    "        nn.Linear(2048, 1),   # capa lineal entran ... salen ... features\n",
    "    )"
   ]
  },
  {
   "attachments": {},
   "cell_type": "markdown",
   "metadata": {},
   "source": [
    "### Opción B)\n",
    "Declarando la red \"manualmente\""
   ]
  },
  {
   "cell_type": "code",
   "execution_count": 12,
   "metadata": {},
   "outputs": [],
   "source": [
    "# TODO: Agrega más capas a la siguiente red y modifca el forward pass de acuerdo a tus adiciones\n",
    "class Net(nn.Module):\n",
    "    def __init__(self, input_dims, output_dims):\n",
    "        super().__init__()\n",
    "        # TODO: Define las capas así como la cantidad de variables de entrada y salida\n",
    "        self.fc1 = nn.Linear(80, 2048)\n",
    "        self.fc2 = nn.Linear(2048, output_dims)\n",
    "\n",
    "    def forward(self, x):\n",
    "        # TODO: Define el forward pass\n",
    "        z1=self.fc1(x)\n",
    "        a1 = F.relu(z1)\n",
    "        z2 = self.fc2(a1)\n",
    "        return z2\n",
    "net2 = Net(input_dims, output_dims)"
   ]
  },
  {
   "attachments": {},
   "cell_type": "markdown",
   "metadata": {},
   "source": [
    "## Inferencia / forward pass\n",
    "\n",
    "En este momento tenemos una red no entrenada, sin embargo ya podemos usarla para inferencia. Vamos a intentar propagar algunos datos de entrenamiento y observemos las predicciones."
   ]
  },
  {
   "cell_type": "code",
   "execution_count": 13,
   "metadata": {},
   "outputs": [
    {
     "name": "stdout",
     "output_type": "stream",
     "text": [
      "Propagando matriz de datos de dimensionalidad torch.Size([128, 80]), con etiquetas de dimensionalidad torch.Size([128, 1])\n",
      "Costo de red 1: 49423376384.0\n",
      "Costo de red 2: 49348026368.0\n"
     ]
    }
   ],
   "source": [
    "X, y_hat = next(iter(train_loader))\n",
    "print(f\"Propagando matriz de datos de dimensionalidad {X.shape}, con etiquetas de dimensionalidad {y_hat.shape}\")\n",
    "loss = nn.MSELoss()\n",
    "\n",
    "# ==== Red 1 ==== #\n",
    "# Forward pass de red 1\n",
    "pred_net1 = net1(X)\n",
    "\n",
    "# Calculando el costo\n",
    "cost1 = loss(pred_net1, y_hat)  # Pred, target\n",
    "print(f\"Costo de red 1: {cost1}\")\n",
    "\n",
    "# ==== Red 2 ==== #\n",
    "# Forward pass de red 2\n",
    "pred_net2 = net2(X)\n",
    "\n",
    "# Calculando el costo\n",
    "cost2 = loss(pred_net2, y_hat)  # Pred, target\n",
    "print(f\"Costo de red 2: {cost2}\")"
   ]
  },
  {
   "attachments": {},
   "cell_type": "markdown",
   "metadata": {},
   "source": [
    "## Probando el pipeline\n",
    "Ya estamos casi listos para entrenar! pero antes... define la función validation_step.\n",
    "\n",
    "Durante entrenamiento, al final de cada epoch predeciremos el **costo total** del conjunto de datos de validación. Esto nos permitirá determinar si la actualización de los pesos está convergiendo a un valor deseado, y en base a ello modificar los hiperparámetros de ser necesario. Esta función deberá:\n",
    "- calcular las predicciones de un minibatch\n",
    "- calcular el costo del minibatch\n",
    "- sumar los costos para regresar el costo promedio por minibatch"
   ]
  },
  {
   "cell_type": "code",
   "execution_count": 14,
   "metadata": {},
   "outputs": [
    {
     "name": "stdout",
     "output_type": "stream",
     "text": [
      "Costo TOTAL de validación antes de entrenar: 43510506837.333336\n"
     ]
    }
   ],
   "source": [
    "def validation_step(val_loader, net, cost_function):\n",
    "    '''\n",
    "        Realiza un epoch completo en el conjunto de validación\n",
    "        args:\n",
    "        - val_loader (torch.DataLoader): dataloader para los datos de validación\n",
    "        - net: definición de la red neuronal (con nn.Sequential o la clase anteriormente definida)\n",
    "        - cost_function(torch.nn): Función de costo a utilizar\n",
    "\n",
    "        returns:\n",
    "        - val_loss (float): el costo total (promedio por minibatch) de todos los datos de validación\n",
    "    '''\n",
    "    val_loss = 0.0\n",
    "    for i, data in enumerate(val_loader, 0):\n",
    "        # get the inputs; data is a list of [inputs, labels]\n",
    "        inputs, labels = data\n",
    "\n",
    "        # Este decorador de \"torch.inference_mode()\" solo se utiliza DURANTE INFERENCIA\n",
    "        # ya que lo que hace es evitar que se puedan actualizar los parámetros de la red.\n",
    "        # Por lo tanto es importante solo usarlo en inferencia (es decir, evítalo en entrenamiento)\n",
    "        with torch.inference_mode():\n",
    "            # TODO: Calcula las predicciones de \"inputs\"\n",
    "            preds = net(inputs)\n",
    "            # TODO: Calcula el costo\n",
    "            loss = cost_function(preds,labels)\n",
    "\n",
    "            # Sumamos los costos para calcular el promedio\n",
    "            val_loss += loss.item()\n",
    "    return val_loss/len(val_loader)\n",
    "\n",
    "# Probando el validation_step\n",
    "loss = nn.MSELoss()\n",
    "costo_validacion = validation_step(val_loader, net1, loss)\n",
    "print(f\"Costo TOTAL de validación antes de entrenar: {costo_validacion}\")"
   ]
  },
  {
   "attachments": {},
   "cell_type": "markdown",
   "metadata": {},
   "source": [
    "# Entrenamiento"
   ]
  },
  {
   "attachments": {},
   "cell_type": "markdown",
   "metadata": {},
   "source": [
    "## Curvas de entrenamiento\n",
    "Para poder visualizar el entrenamiento de la red en tiempo real, primero definimos una clase de utiliería. Ejecuta la celda y procede a la siguiente sección."
   ]
  },
  {
   "cell_type": "code",
   "execution_count": 15,
   "metadata": {},
   "outputs": [],
   "source": [
    "class PlotLosses():\n",
    "    def __init__(self, logs={}):\n",
    "        self.i = 0\n",
    "        self.x = []\n",
    "        self.losses = []\n",
    "        self.val_losses = []\n",
    "        self.fig = plt.figure()\n",
    "        \n",
    "        self.logs = []\n",
    "\n",
    "    def on_epoch_end(self, epoch, train_loss, val_loss):        \n",
    "        self.x.append(self.i)\n",
    "        self.losses.append(train_loss)\n",
    "        self.val_losses.append(val_loss)\n",
    "        self.i += 1\n",
    "        plt.plot(self.x, self.losses, label=\"Costo de entrenamiento promedio\")\n",
    "        plt.plot(self.x, self.val_losses, label=\"Costo de validación promedio\")\n",
    "        plt.xlabel('epochs')\n",
    "        plt.ylabel('Loss')\n",
    "        plt.legend()\n",
    "        plt.show()"
   ]
  },
  {
   "attachments": {},
   "cell_type": "markdown",
   "metadata": {},
   "source": [
    "## Optimización"
   ]
  },
  {
   "attachments": {},
   "cell_type": "markdown",
   "metadata": {},
   "source": [
    "Como vimos en clase, para entrenar la red es necesario antes definir los hiperparámetros. Estos incluyen:\n",
    "- Los epochs\n",
    "- El ritmo de aprendizaje (learning_rate)\n",
    "- El batch_size\n",
    "- La cantidad de capas\n",
    "- La cantidad de neuronas por capa\n",
    "\n",
    "Existen muchos otros hiperparámetros para obtener mejor generalización, sin embargo por ahora nos enfocaremos en estos.\n",
    "En la siguiente celda puedes modificar los hiperparámetros de entrenamiento. Recuerda siempre correr esta celda antes de entrenar la red para que se reflejen los nuevos hiperparámetros!"
   ]
  },
  {
   "cell_type": "code",
   "execution_count": 16,
   "metadata": {},
   "outputs": [],
   "source": [
    "import torch.optim as optim\n",
    "# TODO: Modifica los hiperparámetros y prueba entrenar con ellos hasta que encuentres una configuración adecuada\n",
    "# Hiperparametros\n",
    "config = {\n",
    "    \"n_epochs\": 1000,\n",
    "    \"lr\": 1e-3,\n",
    "    \"batch_size\": 256,\n",
    "}\n",
    "\n",
    "train_loader = DataLoader(train_dataset,\n",
    "                          batch_size=config['batch_size'],\n",
    "                          shuffle=True)\n",
    "val_loader = DataLoader(val_dataset,\n",
    "                        batch_size=config['batch_size'],\n",
    "                        shuffle=False)"
   ]
  },
  {
   "attachments": {},
   "cell_type": "markdown",
   "metadata": {},
   "source": [
    "Ahora si! estamos listos para entrenar tu primera red neuronal. En esta celda aplicarás descenso de gradiente estocástico al dataset del problema de las casas, utilizando TODAS las variables de entrada. Para ellos deberás:\n",
    "- Definir la función de costo\n",
    "- Hacer el forward pass\n",
    "- Calcular el costo del minibatch\n",
    "- Calcular el gradiente del minibatch\n",
    "- Actualizar los pesos con el gradiente anterior\n",
    "\n",
    "y repetir los pasos anteriores por una cantidad de epochs determinada.\n",
    "\n",
    "Una vez finalizado todo corre el entrenamiento y visualiza como cambia el loss según se entrena la red."
   ]
  },
  {
   "cell_type": "code",
   "execution_count": 17,
   "metadata": {},
   "outputs": [
    {
     "data": {
      "image/png": "[encoded data removed]",
      "text/plain": [
       "<Figure size 640x480 with 1 Axes>"
      ]
     },
     "metadata": {},
     "output_type": "display_data"
    },
    {
     "name": "stdout",
     "output_type": "stream",
     "text": [
      "Finished Training\n"
     ]
    }
   ],
   "source": [
    "from IPython import display\n",
    "%matplotlib inline\n",
    "import time\n",
    "\n",
    "# TODO: Elige la red que quieres utilizar. Tambien recuerda que puedes modificarla a tu gusto\n",
    "input_dims = train_dataset.input_dims\n",
    "output_dims = train_dataset.output_dims\n",
    "net = Net(input_dims, output_dims)\n",
    "\n",
    "# TODO: Define la función de costo a utilizar\n",
    "cost_function = nn.MSELoss()\n",
    "\n",
    "# Mandamos los parametros de la red para que los pueda optimizar\n",
    "optimizer = optim.Adam(net.parameters(),\n",
    "                       lr=1e-3)\n",
    "\n",
    "loss_plot = PlotLosses()\n",
    "for epoch in range(config['n_epochs']):  # loop over the dataset multiple times\n",
    "    train_loss = 0.0\n",
    "    for i, data in enumerate(train_loader, 0):\n",
    "        # get the inputs; data is a list of [inputs, labels]\n",
    "        inputs, labels = data\n",
    "\n",
    "        # zero the parameter gradients\n",
    "        optimizer.zero_grad()\n",
    "\n",
    "        # TODO: Realiza el forward pass/ las predicciones actuales para los datos \"inputs\"\n",
    "        outputs = net(inputs)\n",
    "\n",
    "        # TODO: Calcula el costo para las predicciones y las etiquetas(labels)\n",
    "        loss = cost_function(outputs, labels)\n",
    "\n",
    "        # TODO: Calcula los gradientes para todos los parámetros\n",
    "        loss.backward()\n",
    "\n",
    "        # TODO: Actualiza los pesos\n",
    "        optimizer.step()\n",
    "        # Sumamos el costo del minibatch para calcular el promedio\n",
    "        train_loss += loss.item()\n",
    "    \n",
    "    # Calculamos el costo promedio\n",
    "    train_loss = train_loss/len(train_loader)\n",
    "    \n",
    "    # Por cada \n",
    "    val_loss = validation_step(val_loader, net, cost_function)\n",
    "    print(train_loss, val_loss)\n",
    "    # Actualizamos la gráfica de las curvas de entrenamiento\n",
    "    display.display(plt.gcf())\n",
    "    display.clear_output(wait=True)\n",
    "    time.sleep(0.5)\n",
    "    loss_plot.on_epoch_end(epoch, train_loss, val_loss)\n",
    "print('Finished Training')"
   ]
  },
  {
   "attachments": {},
   "cell_type": "markdown",
   "metadata": {},
   "source": [
    "# Conjunto de prueba (Inferencia)\n",
    "Ahora que la red está entrenada, vamos a predecir los valores para el conjunto de prueba. La siguiente celda utiliza la red que has entrenado anteriormente, calcula las predicciones y genera un csv con las mismas. \n",
    "\n",
    "Vamos a ver que equipo logra el menor costo! Ya que tengas las predicciones del conjunto de prueba, súbelas a la [siguiente competencia de Kaggle](https://www.kaggle.com/t/b62cf05f3486cb800056329ff7f44bf1) para que veas el leaderboard.\n",
    "\n",
    "En esta competencia podrán participar los dos grupos y los equipos ganadores recibirán puntos extra en el examen (:\n",
    "Puedes subir tus predicciones más de una vez.\n",
    "\n",
    "Si te interesa encontrar maneras de mejorar la predicción de tu red, puedes consultar la documentación de pytorch sobre [Optimizadores](https://pytorch.org/docs/stable/optim.html).\n",
    "\n",
    "Puedes intentar, investigar sobre los parámetros adicionales de [Descenso de gradiente Estocástico (SGD)](https://pytorch.org/docs/stable/generated/torch.optim.SGD.html#torch.optim.SGD) o usar un optimizador distinto como [ADAM](https://pytorch.org/docs/stable/generated/torch.optim.Adam.html?highlight=adam#torch.optim.Adam), [ADAGRAD](https://pytorch.org/docs/stable/generated/torch.optim.Adagrad.html#torch.optim.Adagrad) etc."
   ]
  },
  {
   "cell_type": "code",
   "execution_count": 18,
   "metadata": {},
   "outputs": [
    {
     "name": "stdout",
     "output_type": "stream",
     "text": [
      "Prueba shapes (1459, 80)\n"
     ]
    }
   ],
   "source": [
    "# Cargamos los datos de prueba y aplicamos el mismo proceso\n",
    "# Solo que en este caso no hay etiquetas\n",
    "test_data = read_data(data_dir, \"test.csv\")\n",
    "\n",
    "ids = np.array(test_data['Id'], dtype=int)\n",
    "test_data = apply_preprocessing(test_data, feat_encoder, obj_cols)\n",
    "print(\"Prueba shapes\", test_data.shape)\n",
    "\n",
    "test_data = torch.tensor(test_data, dtype=torch.float)\n",
    "with torch.inference_mode():\n",
    "    preds = net(test_data)\n",
    "\n",
    "preds = preds.detach().cpu().numpy()\n",
    "submission_df = pd.DataFrame({\n",
    "    \"Id\": ids,\n",
    "    \"SalePrice\": preds.squeeze()\n",
    "})\n",
    "submission_df.to_csv(\"test_preds2.csv\", index=False)"
   ]
  }
 ],
 "metadata": {
  "kernelspec": {
   "display_name": "sistemas_inteligentes",
   "language": "python",
   "name": "python3"
  },
  "language_info": {
   "codemirror_mode": {
    "name": "ipython",
    "version": 3
   },
   "file_extension": ".py",
   "mimetype": "text/x-python",
   "name": "python",
   "nbconvert_exporter": "python",
   "pygments_lexer": "ipython3",
   "version": "3.8.18"
  },
  "orig_nbformat": 4,
  "vscode": {
   "interpreter": {
    "hash": "04dc998fdd71cb65825f35fa039c285a87c761883882ab18ec8c9090ce63cd9f"
   }
  }
 },
 "nbformat": 4,
 "nbformat_minor": 2
}
